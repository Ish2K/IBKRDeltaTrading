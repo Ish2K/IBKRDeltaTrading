{
 "cells": [
  {
   "cell_type": "code",
   "execution_count": 48,
   "metadata": {},
   "outputs": [],
   "source": [
    "import pandas as pd"
   ]
  },
  {
   "cell_type": "code",
   "execution_count": 49,
   "metadata": {},
   "outputs": [],
   "source": [
    "position_option = pd.read_csv('./data/position_option.csv').drop_duplicates()\n",
    "position_option = position_option[[\"time\", \"symbol\", \"contractRight\", \"lastTradeDateOrContractMonth\", \"strike\", \"delta\", \"position\"]]"
   ]
  },
  {
   "cell_type": "code",
   "execution_count": 50,
   "metadata": {},
   "outputs": [
    {
     "data": {
      "text/plain": [
       "[{'symbol': 'AAPL', 'delta': 0.6403355732748666},\n",
       " {'symbol': 'NFLX', 'delta': -0.014959560902901958}]"
      ]
     },
     "execution_count": 50,
     "metadata": {},
     "output_type": "execute_result"
    }
   ],
   "source": [
    "# get the latest record with unique symbol secType contractRight lastTradeDateOrContractMonth strike\n",
    "\n",
    "comparator = position_option.groupby([\"symbol\", \"contractRight\", \"lastTradeDateOrContractMonth\", \"strike\"]).agg({'time': 'max'}).reset_index()\n",
    "\n",
    "# get the delta of the latest record with unique symbol secType contractRight lastTradeDateOrContractMonth strike\n",
    "\n",
    "order_calculator = position_option.merge(comparator, on=['symbol', \"contractRight\",'time'], how='inner')\n",
    "\n",
    "# sum the delta of same symbol\n",
    "\n",
    "order_calculator.groupby(['symbol']).agg({'delta': 'sum'}).reset_index().to_dict('records')\n",
    "\n",
    "\n",
    "\n"
   ]
  },
  {
   "cell_type": "code",
   "execution_count": 51,
   "metadata": {},
   "outputs": [
    {
     "data": {
      "text/html": [
       "<div>\n",
       "<style scoped>\n",
       "    .dataframe tbody tr th:only-of-type {\n",
       "        vertical-align: middle;\n",
       "    }\n",
       "\n",
       "    .dataframe tbody tr th {\n",
       "        vertical-align: top;\n",
       "    }\n",
       "\n",
       "    .dataframe thead th {\n",
       "        text-align: right;\n",
       "    }\n",
       "</style>\n",
       "<table border=\"1\" class=\"dataframe\">\n",
       "  <thead>\n",
       "    <tr style=\"text-align: right;\">\n",
       "      <th></th>\n",
       "      <th>time</th>\n",
       "      <th>symbol</th>\n",
       "      <th>contractRight</th>\n",
       "      <th>lastTradeDateOrContractMonth_x</th>\n",
       "      <th>strike_x</th>\n",
       "      <th>delta</th>\n",
       "      <th>position</th>\n",
       "      <th>lastTradeDateOrContractMonth_y</th>\n",
       "      <th>strike_y</th>\n",
       "    </tr>\n",
       "  </thead>\n",
       "  <tbody>\n",
       "    <tr>\n",
       "      <th>0</th>\n",
       "      <td>2023-10-04 11:30:46</td>\n",
       "      <td>AAPL</td>\n",
       "      <td>C</td>\n",
       "      <td>20231020</td>\n",
       "      <td>170.0</td>\n",
       "      <td>0.640336</td>\n",
       "      <td>-1.0</td>\n",
       "      <td>20231020</td>\n",
       "      <td>170.0</td>\n",
       "    </tr>\n",
       "    <tr>\n",
       "      <th>1</th>\n",
       "      <td>2023-10-04 11:30:47</td>\n",
       "      <td>NFLX</td>\n",
       "      <td>C</td>\n",
       "      <td>20231020</td>\n",
       "      <td>382.5</td>\n",
       "      <td>0.493406</td>\n",
       "      <td>0.0</td>\n",
       "      <td>20231020</td>\n",
       "      <td>382.5</td>\n",
       "    </tr>\n",
       "    <tr>\n",
       "      <th>2</th>\n",
       "      <td>2023-10-04 11:30:48</td>\n",
       "      <td>NFLX</td>\n",
       "      <td>P</td>\n",
       "      <td>20231020</td>\n",
       "      <td>382.5</td>\n",
       "      <td>-0.508365</td>\n",
       "      <td>-2.0</td>\n",
       "      <td>20231020</td>\n",
       "      <td>382.5</td>\n",
       "    </tr>\n",
       "  </tbody>\n",
       "</table>\n",
       "</div>"
      ],
      "text/plain": [
       "                  time symbol contractRight  lastTradeDateOrContractMonth_x  \\\n",
       "0  2023-10-04 11:30:46   AAPL             C                        20231020   \n",
       "1  2023-10-04 11:30:47   NFLX             C                        20231020   \n",
       "2  2023-10-04 11:30:48   NFLX             P                        20231020   \n",
       "\n",
       "   strike_x     delta  position  lastTradeDateOrContractMonth_y  strike_y  \n",
       "0     170.0  0.640336      -1.0                        20231020     170.0  \n",
       "1     382.5  0.493406       0.0                        20231020     382.5  \n",
       "2     382.5 -0.508365      -2.0                        20231020     382.5  "
      ]
     },
     "execution_count": 51,
     "metadata": {},
     "output_type": "execute_result"
    }
   ],
   "source": [
    "order_calculator"
   ]
  },
  {
   "cell_type": "code",
   "execution_count": 52,
   "metadata": {},
   "outputs": [
    {
     "data": {
      "text/html": [
       "<div>\n",
       "<style scoped>\n",
       "    .dataframe tbody tr th:only-of-type {\n",
       "        vertical-align: middle;\n",
       "    }\n",
       "\n",
       "    .dataframe tbody tr th {\n",
       "        vertical-align: top;\n",
       "    }\n",
       "\n",
       "    .dataframe thead th {\n",
       "        text-align: right;\n",
       "    }\n",
       "</style>\n",
       "<table border=\"1\" class=\"dataframe\">\n",
       "  <thead>\n",
       "    <tr style=\"text-align: right;\">\n",
       "      <th></th>\n",
       "      <th>symbol</th>\n",
       "      <th>contractRight</th>\n",
       "      <th>lastTradeDateOrContractMonth</th>\n",
       "      <th>strike</th>\n",
       "      <th>time</th>\n",
       "    </tr>\n",
       "  </thead>\n",
       "  <tbody>\n",
       "    <tr>\n",
       "      <th>0</th>\n",
       "      <td>AAPL</td>\n",
       "      <td>C</td>\n",
       "      <td>20231020</td>\n",
       "      <td>170.0</td>\n",
       "      <td>2023-10-04 11:30:46</td>\n",
       "    </tr>\n",
       "    <tr>\n",
       "      <th>1</th>\n",
       "      <td>NFLX</td>\n",
       "      <td>C</td>\n",
       "      <td>20231020</td>\n",
       "      <td>382.5</td>\n",
       "      <td>2023-10-04 11:30:47</td>\n",
       "    </tr>\n",
       "    <tr>\n",
       "      <th>2</th>\n",
       "      <td>NFLX</td>\n",
       "      <td>P</td>\n",
       "      <td>20231020</td>\n",
       "      <td>382.5</td>\n",
       "      <td>2023-10-04 11:30:48</td>\n",
       "    </tr>\n",
       "  </tbody>\n",
       "</table>\n",
       "</div>"
      ],
      "text/plain": [
       "  symbol contractRight  lastTradeDateOrContractMonth  strike  \\\n",
       "0   AAPL             C                      20231020   170.0   \n",
       "1   NFLX             C                      20231020   382.5   \n",
       "2   NFLX             P                      20231020   382.5   \n",
       "\n",
       "                  time  \n",
       "0  2023-10-04 11:30:46  \n",
       "1  2023-10-04 11:30:47  \n",
       "2  2023-10-04 11:30:48  "
      ]
     },
     "execution_count": 52,
     "metadata": {},
     "output_type": "execute_result"
    }
   ],
   "source": [
    "comparator"
   ]
  },
  {
   "cell_type": "code",
   "execution_count": 53,
   "metadata": {},
   "outputs": [
    {
     "data": {
      "text/html": [
       "<div>\n",
       "<style scoped>\n",
       "    .dataframe tbody tr th:only-of-type {\n",
       "        vertical-align: middle;\n",
       "    }\n",
       "\n",
       "    .dataframe tbody tr th {\n",
       "        vertical-align: top;\n",
       "    }\n",
       "\n",
       "    .dataframe thead th {\n",
       "        text-align: right;\n",
       "    }\n",
       "</style>\n",
       "<table border=\"1\" class=\"dataframe\">\n",
       "  <thead>\n",
       "    <tr style=\"text-align: right;\">\n",
       "      <th></th>\n",
       "      <th>time</th>\n",
       "      <th>symbol</th>\n",
       "      <th>contractRight</th>\n",
       "      <th>lastTradeDateOrContractMonth</th>\n",
       "      <th>strike</th>\n",
       "      <th>delta</th>\n",
       "      <th>position</th>\n",
       "    </tr>\n",
       "  </thead>\n",
       "  <tbody>\n",
       "    <tr>\n",
       "      <th>0</th>\n",
       "      <td>2023-10-04 11:30:46</td>\n",
       "      <td>AAPL</td>\n",
       "      <td>C</td>\n",
       "      <td>20231020</td>\n",
       "      <td>170.0</td>\n",
       "      <td>0.640336</td>\n",
       "      <td>-1.0</td>\n",
       "    </tr>\n",
       "    <tr>\n",
       "      <th>1</th>\n",
       "      <td>2023-10-04 11:30:47</td>\n",
       "      <td>NFLX</td>\n",
       "      <td>C</td>\n",
       "      <td>20231020</td>\n",
       "      <td>382.5</td>\n",
       "      <td>0.493406</td>\n",
       "      <td>0.0</td>\n",
       "    </tr>\n",
       "    <tr>\n",
       "      <th>2</th>\n",
       "      <td>2023-10-04 11:30:48</td>\n",
       "      <td>NFLX</td>\n",
       "      <td>P</td>\n",
       "      <td>20231020</td>\n",
       "      <td>382.5</td>\n",
       "      <td>-0.508365</td>\n",
       "      <td>-2.0</td>\n",
       "    </tr>\n",
       "  </tbody>\n",
       "</table>\n",
       "</div>"
      ],
      "text/plain": [
       "                  time symbol contractRight  lastTradeDateOrContractMonth  \\\n",
       "0  2023-10-04 11:30:46   AAPL             C                      20231020   \n",
       "1  2023-10-04 11:30:47   NFLX             C                      20231020   \n",
       "2  2023-10-04 11:30:48   NFLX             P                      20231020   \n",
       "\n",
       "   strike     delta  position  \n",
       "0   170.0  0.640336      -1.0  \n",
       "1   382.5  0.493406       0.0  \n",
       "2   382.5 -0.508365      -2.0  "
      ]
     },
     "execution_count": 53,
     "metadata": {},
     "output_type": "execute_result"
    }
   ],
   "source": [
    "position_option"
   ]
  },
  {
   "cell_type": "code",
   "execution_count": 54,
   "metadata": {},
   "outputs": [
    {
     "data": {
      "text/html": [
       "<div>\n",
       "<style scoped>\n",
       "    .dataframe tbody tr th:only-of-type {\n",
       "        vertical-align: middle;\n",
       "    }\n",
       "\n",
       "    .dataframe tbody tr th {\n",
       "        vertical-align: top;\n",
       "    }\n",
       "\n",
       "    .dataframe thead th {\n",
       "        text-align: right;\n",
       "    }\n",
       "</style>\n",
       "<table border=\"1\" class=\"dataframe\">\n",
       "  <thead>\n",
       "    <tr style=\"text-align: right;\">\n",
       "      <th></th>\n",
       "      <th>time</th>\n",
       "      <th>symbol</th>\n",
       "      <th>contractRight</th>\n",
       "      <th>lastTradeDateOrContractMonth</th>\n",
       "      <th>strike</th>\n",
       "      <th>delta</th>\n",
       "      <th>position</th>\n",
       "      <th>idealPosition</th>\n",
       "    </tr>\n",
       "  </thead>\n",
       "  <tbody>\n",
       "    <tr>\n",
       "      <th>0</th>\n",
       "      <td>2023-10-04 11:30:46</td>\n",
       "      <td>AAPL</td>\n",
       "      <td>C</td>\n",
       "      <td>20231020</td>\n",
       "      <td>170.0</td>\n",
       "      <td>0.640336</td>\n",
       "      <td>-1.0</td>\n",
       "      <td>-64.0</td>\n",
       "    </tr>\n",
       "    <tr>\n",
       "      <th>1</th>\n",
       "      <td>2023-10-04 11:30:47</td>\n",
       "      <td>NFLX</td>\n",
       "      <td>C</td>\n",
       "      <td>20231020</td>\n",
       "      <td>382.5</td>\n",
       "      <td>0.493406</td>\n",
       "      <td>0.0</td>\n",
       "      <td>0.0</td>\n",
       "    </tr>\n",
       "    <tr>\n",
       "      <th>2</th>\n",
       "      <td>2023-10-04 11:30:48</td>\n",
       "      <td>NFLX</td>\n",
       "      <td>P</td>\n",
       "      <td>20231020</td>\n",
       "      <td>382.5</td>\n",
       "      <td>-0.508365</td>\n",
       "      <td>-2.0</td>\n",
       "      <td>102.0</td>\n",
       "    </tr>\n",
       "  </tbody>\n",
       "</table>\n",
       "</div>"
      ],
      "text/plain": [
       "                  time symbol contractRight  lastTradeDateOrContractMonth  \\\n",
       "0  2023-10-04 11:30:46   AAPL             C                      20231020   \n",
       "1  2023-10-04 11:30:47   NFLX             C                      20231020   \n",
       "2  2023-10-04 11:30:48   NFLX             P                      20231020   \n",
       "\n",
       "   strike     delta  position  idealPosition  \n",
       "0   170.0  0.640336      -1.0          -64.0  \n",
       "1   382.5  0.493406       0.0            0.0  \n",
       "2   382.5 -0.508365      -2.0          102.0  "
      ]
     },
     "execution_count": 54,
     "metadata": {},
     "output_type": "execute_result"
    }
   ],
   "source": [
    "position_option[\"idealPosition\"] = round(position_option[\"position\"] * position_option[\"delta\"] * 100)\n",
    "position_option"
   ]
  },
  {
   "cell_type": "code",
   "execution_count": null,
   "metadata": {},
   "outputs": [],
   "source": []
  }
 ],
 "metadata": {
  "kernelspec": {
   "display_name": "venv",
   "language": "python",
   "name": "python3"
  },
  "language_info": {
   "codemirror_mode": {
    "name": "ipython",
    "version": 3
   },
   "file_extension": ".py",
   "mimetype": "text/x-python",
   "name": "python",
   "nbconvert_exporter": "python",
   "pygments_lexer": "ipython3",
   "version": "3.10.1"
  },
  "orig_nbformat": 4
 },
 "nbformat": 4,
 "nbformat_minor": 2
}
