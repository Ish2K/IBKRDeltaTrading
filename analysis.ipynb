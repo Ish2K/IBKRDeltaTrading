{
 "cells": [
  {
   "cell_type": "code",
   "execution_count": 5,
   "metadata": {},
   "outputs": [],
   "source": [
    "import pandas as pd"
   ]
  },
  {
   "cell_type": "code",
   "execution_count": 6,
   "metadata": {},
   "outputs": [],
   "source": [
    "position_option = pd.read_csv('./data/position_option.csv').drop_duplicates()\n",
    "position_option = position_option[[\"time\", \"symbol\", \"contractRight\", \"lastTradeDateOrContractMonth\", \"strike\", \"delta\"]]"
   ]
  },
  {
   "cell_type": "code",
   "execution_count": 7,
   "metadata": {},
   "outputs": [
    {
     "data": {
      "text/html": [
       "<div>\n",
       "<style scoped>\n",
       "    .dataframe tbody tr th:only-of-type {\n",
       "        vertical-align: middle;\n",
       "    }\n",
       "\n",
       "    .dataframe tbody tr th {\n",
       "        vertical-align: top;\n",
       "    }\n",
       "\n",
       "    .dataframe thead th {\n",
       "        text-align: right;\n",
       "    }\n",
       "</style>\n",
       "<table border=\"1\" class=\"dataframe\">\n",
       "  <thead>\n",
       "    <tr style=\"text-align: right;\">\n",
       "      <th></th>\n",
       "      <th>symbol</th>\n",
       "      <th>delta</th>\n",
       "    </tr>\n",
       "  </thead>\n",
       "  <tbody>\n",
       "    <tr>\n",
       "      <th>0</th>\n",
       "      <td>NFLX</td>\n",
       "      <td>-0.040545</td>\n",
       "    </tr>\n",
       "  </tbody>\n",
       "</table>\n",
       "</div>"
      ],
      "text/plain": [
       "  symbol     delta\n",
       "0   NFLX -0.040545"
      ]
     },
     "execution_count": 7,
     "metadata": {},
     "output_type": "execute_result"
    }
   ],
   "source": [
    "# get the latest record with unique symbol secType contractRight lastTradeDateOrContractMonth strike\n",
    "\n",
    "comparator = position_option.groupby([\"symbol\", \"contractRight\"]).agg({'time': 'max'}).reset_index()\n",
    "\n",
    "# get the delta of the latest record with unique symbol secType contractRight lastTradeDateOrContractMonth strike\n",
    "\n",
    "order_calculator = position_option.merge(comparator, on=['symbol', \"contractRight\",'time'], how='inner')\n",
    "\n",
    "# sum the delta of same symbol\n",
    "\n",
    "order_calculator.groupby(['symbol']).agg({'delta': 'sum'}).reset_index()\n",
    "\n",
    "\n",
    "\n"
   ]
  },
  {
   "cell_type": "code",
   "execution_count": 8,
   "metadata": {},
   "outputs": [
    {
     "data": {
      "text/html": [
       "<div>\n",
       "<style scoped>\n",
       "    .dataframe tbody tr th:only-of-type {\n",
       "        vertical-align: middle;\n",
       "    }\n",
       "\n",
       "    .dataframe tbody tr th {\n",
       "        vertical-align: top;\n",
       "    }\n",
       "\n",
       "    .dataframe thead th {\n",
       "        text-align: right;\n",
       "    }\n",
       "</style>\n",
       "<table border=\"1\" class=\"dataframe\">\n",
       "  <thead>\n",
       "    <tr style=\"text-align: right;\">\n",
       "      <th></th>\n",
       "      <th>time</th>\n",
       "      <th>symbol</th>\n",
       "      <th>contractRight</th>\n",
       "      <th>delta</th>\n",
       "    </tr>\n",
       "  </thead>\n",
       "  <tbody>\n",
       "    <tr>\n",
       "      <th>0</th>\n",
       "      <td>2023-10-04 09:37:14</td>\n",
       "      <td>NFLX</td>\n",
       "      <td>P</td>\n",
       "      <td>-0.507811</td>\n",
       "    </tr>\n",
       "    <tr>\n",
       "      <th>1</th>\n",
       "      <td>2023-10-04 09:37:14</td>\n",
       "      <td>NFLX</td>\n",
       "      <td>P</td>\n",
       "      <td>-0.508558</td>\n",
       "    </tr>\n",
       "    <tr>\n",
       "      <th>2</th>\n",
       "      <td>2023-10-04 09:37:14</td>\n",
       "      <td>NFLX</td>\n",
       "      <td>P</td>\n",
       "      <td>-0.507467</td>\n",
       "    </tr>\n",
       "    <tr>\n",
       "      <th>3</th>\n",
       "      <td>2023-10-04 09:37:14</td>\n",
       "      <td>NFLX</td>\n",
       "      <td>P</td>\n",
       "      <td>NaN</td>\n",
       "    </tr>\n",
       "    <tr>\n",
       "      <th>4</th>\n",
       "      <td>2023-10-04 09:37:15</td>\n",
       "      <td>NFLX</td>\n",
       "      <td>C</td>\n",
       "      <td>0.494398</td>\n",
       "    </tr>\n",
       "    <tr>\n",
       "      <th>5</th>\n",
       "      <td>2023-10-04 09:37:15</td>\n",
       "      <td>NFLX</td>\n",
       "      <td>C</td>\n",
       "      <td>0.493856</td>\n",
       "    </tr>\n",
       "    <tr>\n",
       "      <th>6</th>\n",
       "      <td>2023-10-04 09:37:15</td>\n",
       "      <td>NFLX</td>\n",
       "      <td>C</td>\n",
       "      <td>0.495037</td>\n",
       "    </tr>\n",
       "  </tbody>\n",
       "</table>\n",
       "</div>"
      ],
      "text/plain": [
       "                  time symbol contractRight     delta\n",
       "0  2023-10-04 09:37:14   NFLX             P -0.507811\n",
       "1  2023-10-04 09:37:14   NFLX             P -0.508558\n",
       "2  2023-10-04 09:37:14   NFLX             P -0.507467\n",
       "3  2023-10-04 09:37:14   NFLX             P       NaN\n",
       "4  2023-10-04 09:37:15   NFLX             C  0.494398\n",
       "5  2023-10-04 09:37:15   NFLX             C  0.493856\n",
       "6  2023-10-04 09:37:15   NFLX             C  0.495037"
      ]
     },
     "execution_count": 8,
     "metadata": {},
     "output_type": "execute_result"
    }
   ],
   "source": [
    "order_calculator"
   ]
  },
  {
   "cell_type": "code",
   "execution_count": null,
   "metadata": {},
   "outputs": [],
   "source": []
  }
 ],
 "metadata": {
  "kernelspec": {
   "display_name": "venv",
   "language": "python",
   "name": "python3"
  },
  "language_info": {
   "codemirror_mode": {
    "name": "ipython",
    "version": 3
   },
   "file_extension": ".py",
   "mimetype": "text/x-python",
   "name": "python",
   "nbconvert_exporter": "python",
   "pygments_lexer": "ipython3",
   "version": "3.10.1"
  },
  "orig_nbformat": 4
 },
 "nbformat": 4,
 "nbformat_minor": 2
}
