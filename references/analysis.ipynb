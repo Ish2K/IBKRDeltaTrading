{
 "cells": [
  {
   "cell_type": "code",
   "execution_count": 95,
   "metadata": {},
   "outputs": [],
   "source": [
    "import pandas as pd"
   ]
  },
  {
   "cell_type": "code",
   "execution_count": 96,
   "metadata": {},
   "outputs": [],
   "source": [
    "position_option = pd.read_csv('./data/position_option.csv').drop_duplicates()\n",
    "position_option = position_option[[\"time\", \"symbol\", \"contractRight\", \"lastTradeDateOrContractMonth\", \"strike\", \"delta\", \"position\"]]"
   ]
  },
  {
   "cell_type": "code",
   "execution_count": 97,
   "metadata": {},
   "outputs": [
    {
     "data": {
      "text/plain": [
       "[{'symbol': 'AAPL', 'delta': 0.6598343237975796},\n",
       " {'symbol': 'NFLX', 'delta': 0.002096144017257884},\n",
       " {'symbol': 'TSLA', 'delta': 0.583328661752576}]"
      ]
     },
     "execution_count": 97,
     "metadata": {},
     "output_type": "execute_result"
    }
   ],
   "source": [
    "# get the latest record with unique symbol secType contractRight lastTradeDateOrContractMonth strike\n",
    "\n",
    "comparator = position_option.groupby([\"symbol\", \"contractRight\", \"lastTradeDateOrContractMonth\", \"strike\"]).agg({'time': 'max'}).reset_index()\n",
    "\n",
    "# get the delta of the latest record with unique symbol secType contractRight lastTradeDateOrContractMonth strike\n",
    "\n",
    "order_calculator = position_option.merge(comparator, on=['symbol', \"contractRight\",'time'], how='inner')\n",
    "\n",
    "# sum the delta of same symbol\n",
    "\n",
    "order_calculator.groupby(['symbol']).agg({'delta': 'sum'}).reset_index().to_dict('records')\n",
    "\n",
    "\n",
    "\n"
   ]
  },
  {
   "cell_type": "code",
   "execution_count": 98,
   "metadata": {},
   "outputs": [
    {
     "data": {
      "text/html": [
       "<div>\n",
       "<style scoped>\n",
       "    .dataframe tbody tr th:only-of-type {\n",
       "        vertical-align: middle;\n",
       "    }\n",
       "\n",
       "    .dataframe tbody tr th {\n",
       "        vertical-align: top;\n",
       "    }\n",
       "\n",
       "    .dataframe thead th {\n",
       "        text-align: right;\n",
       "    }\n",
       "</style>\n",
       "<table border=\"1\" class=\"dataframe\">\n",
       "  <thead>\n",
       "    <tr style=\"text-align: right;\">\n",
       "      <th></th>\n",
       "      <th>time</th>\n",
       "      <th>symbol</th>\n",
       "      <th>contractRight</th>\n",
       "      <th>lastTradeDateOrContractMonth_x</th>\n",
       "      <th>strike_x</th>\n",
       "      <th>delta</th>\n",
       "      <th>position</th>\n",
       "      <th>lastTradeDateOrContractMonth_y</th>\n",
       "      <th>strike_y</th>\n",
       "    </tr>\n",
       "  </thead>\n",
       "  <tbody>\n",
       "    <tr>\n",
       "      <th>0</th>\n",
       "      <td>2023-10-04 12:20:36</td>\n",
       "      <td>AAPL</td>\n",
       "      <td>C</td>\n",
       "      <td>20231020</td>\n",
       "      <td>170.0</td>\n",
       "      <td>0.659834</td>\n",
       "      <td>-1.0</td>\n",
       "      <td>20231020</td>\n",
       "      <td>170.0</td>\n",
       "    </tr>\n",
       "    <tr>\n",
       "      <th>1</th>\n",
       "      <td>2023-10-04 12:20:38</td>\n",
       "      <td>NFLX</td>\n",
       "      <td>C</td>\n",
       "      <td>20231020</td>\n",
       "      <td>382.5</td>\n",
       "      <td>0.502171</td>\n",
       "      <td>1.0</td>\n",
       "      <td>20231020</td>\n",
       "      <td>382.5</td>\n",
       "    </tr>\n",
       "    <tr>\n",
       "      <th>2</th>\n",
       "      <td>2023-10-04 12:20:38</td>\n",
       "      <td>TSLA</td>\n",
       "      <td>C</td>\n",
       "      <td>20231020</td>\n",
       "      <td>252.5</td>\n",
       "      <td>0.583329</td>\n",
       "      <td>0.0</td>\n",
       "      <td>20231020</td>\n",
       "      <td>252.5</td>\n",
       "    </tr>\n",
       "    <tr>\n",
       "      <th>3</th>\n",
       "      <td>2023-10-04 12:20:39</td>\n",
       "      <td>NFLX</td>\n",
       "      <td>P</td>\n",
       "      <td>20231020</td>\n",
       "      <td>382.5</td>\n",
       "      <td>-0.500074</td>\n",
       "      <td>-2.0</td>\n",
       "      <td>20231020</td>\n",
       "      <td>382.5</td>\n",
       "    </tr>\n",
       "  </tbody>\n",
       "</table>\n",
       "</div>"
      ],
      "text/plain": [
       "                  time symbol contractRight  lastTradeDateOrContractMonth_x  \\\n",
       "0  2023-10-04 12:20:36   AAPL             C                        20231020   \n",
       "1  2023-10-04 12:20:38   NFLX             C                        20231020   \n",
       "2  2023-10-04 12:20:38   TSLA             C                        20231020   \n",
       "3  2023-10-04 12:20:39   NFLX             P                        20231020   \n",
       "\n",
       "   strike_x     delta  position  lastTradeDateOrContractMonth_y  strike_y  \n",
       "0     170.0  0.659834      -1.0                        20231020     170.0  \n",
       "1     382.5  0.502171       1.0                        20231020     382.5  \n",
       "2     252.5  0.583329       0.0                        20231020     252.5  \n",
       "3     382.5 -0.500074      -2.0                        20231020     382.5  "
      ]
     },
     "execution_count": 98,
     "metadata": {},
     "output_type": "execute_result"
    }
   ],
   "source": [
    "order_calculator"
   ]
  },
  {
   "cell_type": "code",
   "execution_count": 99,
   "metadata": {},
   "outputs": [
    {
     "data": {
      "text/html": [
       "<div>\n",
       "<style scoped>\n",
       "    .dataframe tbody tr th:only-of-type {\n",
       "        vertical-align: middle;\n",
       "    }\n",
       "\n",
       "    .dataframe tbody tr th {\n",
       "        vertical-align: top;\n",
       "    }\n",
       "\n",
       "    .dataframe thead th {\n",
       "        text-align: right;\n",
       "    }\n",
       "</style>\n",
       "<table border=\"1\" class=\"dataframe\">\n",
       "  <thead>\n",
       "    <tr style=\"text-align: right;\">\n",
       "      <th></th>\n",
       "      <th>symbol</th>\n",
       "      <th>contractRight</th>\n",
       "      <th>lastTradeDateOrContractMonth</th>\n",
       "      <th>strike</th>\n",
       "      <th>time</th>\n",
       "    </tr>\n",
       "  </thead>\n",
       "  <tbody>\n",
       "    <tr>\n",
       "      <th>0</th>\n",
       "      <td>AAPL</td>\n",
       "      <td>C</td>\n",
       "      <td>20231020</td>\n",
       "      <td>170.0</td>\n",
       "      <td>2023-10-04 12:20:36</td>\n",
       "    </tr>\n",
       "    <tr>\n",
       "      <th>1</th>\n",
       "      <td>NFLX</td>\n",
       "      <td>C</td>\n",
       "      <td>20231020</td>\n",
       "      <td>382.5</td>\n",
       "      <td>2023-10-04 12:20:38</td>\n",
       "    </tr>\n",
       "    <tr>\n",
       "      <th>2</th>\n",
       "      <td>NFLX</td>\n",
       "      <td>P</td>\n",
       "      <td>20231020</td>\n",
       "      <td>382.5</td>\n",
       "      <td>2023-10-04 12:20:39</td>\n",
       "    </tr>\n",
       "    <tr>\n",
       "      <th>3</th>\n",
       "      <td>TSLA</td>\n",
       "      <td>C</td>\n",
       "      <td>20231020</td>\n",
       "      <td>252.5</td>\n",
       "      <td>2023-10-04 12:20:38</td>\n",
       "    </tr>\n",
       "  </tbody>\n",
       "</table>\n",
       "</div>"
      ],
      "text/plain": [
       "  symbol contractRight  lastTradeDateOrContractMonth  strike  \\\n",
       "0   AAPL             C                      20231020   170.0   \n",
       "1   NFLX             C                      20231020   382.5   \n",
       "2   NFLX             P                      20231020   382.5   \n",
       "3   TSLA             C                      20231020   252.5   \n",
       "\n",
       "                  time  \n",
       "0  2023-10-04 12:20:36  \n",
       "1  2023-10-04 12:20:38  \n",
       "2  2023-10-04 12:20:39  \n",
       "3  2023-10-04 12:20:38  "
      ]
     },
     "execution_count": 99,
     "metadata": {},
     "output_type": "execute_result"
    }
   ],
   "source": [
    "comparator"
   ]
  },
  {
   "cell_type": "code",
   "execution_count": 100,
   "metadata": {},
   "outputs": [
    {
     "data": {
      "text/html": [
       "<div>\n",
       "<style scoped>\n",
       "    .dataframe tbody tr th:only-of-type {\n",
       "        vertical-align: middle;\n",
       "    }\n",
       "\n",
       "    .dataframe tbody tr th {\n",
       "        vertical-align: top;\n",
       "    }\n",
       "\n",
       "    .dataframe thead th {\n",
       "        text-align: right;\n",
       "    }\n",
       "</style>\n",
       "<table border=\"1\" class=\"dataframe\">\n",
       "  <thead>\n",
       "    <tr style=\"text-align: right;\">\n",
       "      <th></th>\n",
       "      <th>time</th>\n",
       "      <th>symbol</th>\n",
       "      <th>contractRight</th>\n",
       "      <th>lastTradeDateOrContractMonth</th>\n",
       "      <th>strike</th>\n",
       "      <th>delta</th>\n",
       "      <th>position</th>\n",
       "    </tr>\n",
       "  </thead>\n",
       "  <tbody>\n",
       "    <tr>\n",
       "      <th>0</th>\n",
       "      <td>2023-10-04 12:20:36</td>\n",
       "      <td>AAPL</td>\n",
       "      <td>C</td>\n",
       "      <td>20231020</td>\n",
       "      <td>170.0</td>\n",
       "      <td>0.659834</td>\n",
       "      <td>-1.0</td>\n",
       "    </tr>\n",
       "    <tr>\n",
       "      <th>1</th>\n",
       "      <td>2023-10-04 12:20:38</td>\n",
       "      <td>NFLX</td>\n",
       "      <td>C</td>\n",
       "      <td>20231020</td>\n",
       "      <td>382.5</td>\n",
       "      <td>0.502171</td>\n",
       "      <td>1.0</td>\n",
       "    </tr>\n",
       "    <tr>\n",
       "      <th>2</th>\n",
       "      <td>2023-10-04 12:20:38</td>\n",
       "      <td>TSLA</td>\n",
       "      <td>C</td>\n",
       "      <td>20231020</td>\n",
       "      <td>252.5</td>\n",
       "      <td>0.583329</td>\n",
       "      <td>0.0</td>\n",
       "    </tr>\n",
       "    <tr>\n",
       "      <th>3</th>\n",
       "      <td>2023-10-04 12:20:39</td>\n",
       "      <td>NFLX</td>\n",
       "      <td>P</td>\n",
       "      <td>20231020</td>\n",
       "      <td>382.5</td>\n",
       "      <td>-0.500074</td>\n",
       "      <td>-2.0</td>\n",
       "    </tr>\n",
       "  </tbody>\n",
       "</table>\n",
       "</div>"
      ],
      "text/plain": [
       "                  time symbol contractRight  lastTradeDateOrContractMonth  \\\n",
       "0  2023-10-04 12:20:36   AAPL             C                      20231020   \n",
       "1  2023-10-04 12:20:38   NFLX             C                      20231020   \n",
       "2  2023-10-04 12:20:38   TSLA             C                      20231020   \n",
       "3  2023-10-04 12:20:39   NFLX             P                      20231020   \n",
       "\n",
       "   strike     delta  position  \n",
       "0   170.0  0.659834      -1.0  \n",
       "1   382.5  0.502171       1.0  \n",
       "2   252.5  0.583329       0.0  \n",
       "3   382.5 -0.500074      -2.0  "
      ]
     },
     "execution_count": 100,
     "metadata": {},
     "output_type": "execute_result"
    }
   ],
   "source": [
    "position_option"
   ]
  },
  {
   "cell_type": "code",
   "execution_count": 101,
   "metadata": {},
   "outputs": [],
   "source": [
    "import json\n",
    "with open('input.json', 'r') as f:\n",
    "    config = json.load(f)"
   ]
  },
  {
   "cell_type": "code",
   "execution_count": 102,
   "metadata": {},
   "outputs": [],
   "source": [
    "position_option[\"targe_delta\"] = position_option.apply(lambda x: config['trading'][x['symbol']]['target_delta'] if (x['symbol'] in config['trading']) else 0, axis=1)"
   ]
  },
  {
   "cell_type": "code",
   "execution_count": 103,
   "metadata": {},
   "outputs": [],
   "source": [
    "# position_option = position_option.groupby(['symbol']).agg({'delta': 'sum', 'position':'sum'}).reset_index()\n",
    "position_option[\"targe_delta\"] = position_option.apply(lambda x: config['trading'][x['symbol']]['target_delta'] if (x['symbol'] in config['trading']) else 0, axis=1)\n",
    "position_option[\"idealPosition\"] = round((position_option[\"targe_delta\"] - position_option[\"delta\"]) * position_option[\"position\"] * 100)"
   ]
  },
  {
   "cell_type": "code",
   "execution_count": 104,
   "metadata": {},
   "outputs": [
    {
     "data": {
      "text/html": [
       "<div>\n",
       "<style scoped>\n",
       "    .dataframe tbody tr th:only-of-type {\n",
       "        vertical-align: middle;\n",
       "    }\n",
       "\n",
       "    .dataframe tbody tr th {\n",
       "        vertical-align: top;\n",
       "    }\n",
       "\n",
       "    .dataframe thead th {\n",
       "        text-align: right;\n",
       "    }\n",
       "</style>\n",
       "<table border=\"1\" class=\"dataframe\">\n",
       "  <thead>\n",
       "    <tr style=\"text-align: right;\">\n",
       "      <th></th>\n",
       "      <th>time</th>\n",
       "      <th>symbol</th>\n",
       "      <th>contractRight</th>\n",
       "      <th>lastTradeDateOrContractMonth</th>\n",
       "      <th>strike</th>\n",
       "      <th>delta</th>\n",
       "      <th>position</th>\n",
       "      <th>targe_delta</th>\n",
       "      <th>idealPosition</th>\n",
       "    </tr>\n",
       "  </thead>\n",
       "  <tbody>\n",
       "    <tr>\n",
       "      <th>0</th>\n",
       "      <td>2023-10-04 12:20:36</td>\n",
       "      <td>AAPL</td>\n",
       "      <td>C</td>\n",
       "      <td>20231020</td>\n",
       "      <td>170.0</td>\n",
       "      <td>0.659834</td>\n",
       "      <td>-1.0</td>\n",
       "      <td>0</td>\n",
       "      <td>66.0</td>\n",
       "    </tr>\n",
       "    <tr>\n",
       "      <th>1</th>\n",
       "      <td>2023-10-04 12:20:38</td>\n",
       "      <td>NFLX</td>\n",
       "      <td>C</td>\n",
       "      <td>20231020</td>\n",
       "      <td>382.5</td>\n",
       "      <td>0.502171</td>\n",
       "      <td>1.0</td>\n",
       "      <td>0</td>\n",
       "      <td>-50.0</td>\n",
       "    </tr>\n",
       "    <tr>\n",
       "      <th>2</th>\n",
       "      <td>2023-10-04 12:20:38</td>\n",
       "      <td>TSLA</td>\n",
       "      <td>C</td>\n",
       "      <td>20231020</td>\n",
       "      <td>252.5</td>\n",
       "      <td>0.583329</td>\n",
       "      <td>0.0</td>\n",
       "      <td>0</td>\n",
       "      <td>-0.0</td>\n",
       "    </tr>\n",
       "    <tr>\n",
       "      <th>3</th>\n",
       "      <td>2023-10-04 12:20:39</td>\n",
       "      <td>NFLX</td>\n",
       "      <td>P</td>\n",
       "      <td>20231020</td>\n",
       "      <td>382.5</td>\n",
       "      <td>-0.500074</td>\n",
       "      <td>-2.0</td>\n",
       "      <td>0</td>\n",
       "      <td>-100.0</td>\n",
       "    </tr>\n",
       "  </tbody>\n",
       "</table>\n",
       "</div>"
      ],
      "text/plain": [
       "                  time symbol contractRight  lastTradeDateOrContractMonth  \\\n",
       "0  2023-10-04 12:20:36   AAPL             C                      20231020   \n",
       "1  2023-10-04 12:20:38   NFLX             C                      20231020   \n",
       "2  2023-10-04 12:20:38   TSLA             C                      20231020   \n",
       "3  2023-10-04 12:20:39   NFLX             P                      20231020   \n",
       "\n",
       "   strike     delta  position  targe_delta  idealPosition  \n",
       "0   170.0  0.659834      -1.0            0           66.0  \n",
       "1   382.5  0.502171       1.0            0          -50.0  \n",
       "2   252.5  0.583329       0.0            0           -0.0  \n",
       "3   382.5 -0.500074      -2.0            0         -100.0  "
      ]
     },
     "execution_count": 104,
     "metadata": {},
     "output_type": "execute_result"
    },
    {
     "ename": "",
     "evalue": "",
     "output_type": "error",
     "traceback": [
      "\u001b[1;31mThe Kernel crashed while executing code in the the current cell or a previous cell. Please review the code in the cell(s) to identify a possible cause of the failure. Click <a href='https://aka.ms/vscodeJupyterKernelCrash'>here</a> for more info. View Jupyter <a href='command:jupyter.viewOutput'>log</a> for further details."
     ]
    }
   ],
   "source": [
    "position_option"
   ]
  },
  {
   "cell_type": "code",
   "execution_count": 1,
   "metadata": {},
   "outputs": [
    {
     "ename": "RuntimeError",
     "evalue": "asyncio.run() cannot be called from a running event loop",
     "output_type": "error",
     "traceback": [
      "\u001b[1;31m---------------------------------------------------------------------------\u001b[0m",
      "\u001b[1;31mRuntimeError\u001b[0m                              Traceback (most recent call last)",
      "\u001b[1;32mc:\\Users\\ishaa\\OneDrive\\Desktop\\UpworkProjects\\Mike\\analysis.ipynb Cell 11\u001b[0m line \u001b[0;36m4\n\u001b[0;32m     <a href='vscode-notebook-cell:/c%3A/Users/ishaa/OneDrive/Desktop/UpworkProjects/Mike/analysis.ipynb#X13sZmlsZQ%3D%3D?line=38'>39</a>\u001b[0m     \u001b[39mawait\u001b[39;00m asyncio\u001b[39m.\u001b[39mgather(producer(queue), consumer(queue))\n\u001b[0;32m     <a href='vscode-notebook-cell:/c%3A/Users/ishaa/OneDrive/Desktop/UpworkProjects/Mike/analysis.ipynb#X13sZmlsZQ%3D%3D?line=40'>41</a>\u001b[0m \u001b[39m# start the asyncio program\u001b[39;00m\n\u001b[1;32m---> <a href='vscode-notebook-cell:/c%3A/Users/ishaa/OneDrive/Desktop/UpworkProjects/Mike/analysis.ipynb#X13sZmlsZQ%3D%3D?line=41'>42</a>\u001b[0m asyncio\u001b[39m.\u001b[39;49mrun(main())\n",
      "File \u001b[1;32m~\\AppData\\Local\\Programs\\Python\\Python310\\lib\\asyncio\\runners.py:33\u001b[0m, in \u001b[0;36mrun\u001b[1;34m(main, debug)\u001b[0m\n\u001b[0;32m      9\u001b[0m \u001b[39m\u001b[39m\u001b[39m\"\"\"Execute the coroutine and return the result.\u001b[39;00m\n\u001b[0;32m     10\u001b[0m \n\u001b[0;32m     11\u001b[0m \u001b[39mThis function runs the passed coroutine, taking care of\u001b[39;00m\n\u001b[1;32m   (...)\u001b[0m\n\u001b[0;32m     30\u001b[0m \u001b[39m    asyncio.run(main())\u001b[39;00m\n\u001b[0;32m     31\u001b[0m \u001b[39m\"\"\"\u001b[39;00m\n\u001b[0;32m     32\u001b[0m \u001b[39mif\u001b[39;00m events\u001b[39m.\u001b[39m_get_running_loop() \u001b[39mis\u001b[39;00m \u001b[39mnot\u001b[39;00m \u001b[39mNone\u001b[39;00m:\n\u001b[1;32m---> 33\u001b[0m     \u001b[39mraise\u001b[39;00m \u001b[39mRuntimeError\u001b[39;00m(\n\u001b[0;32m     34\u001b[0m         \u001b[39m\"\u001b[39m\u001b[39masyncio.run() cannot be called from a running event loop\u001b[39m\u001b[39m\"\u001b[39m)\n\u001b[0;32m     36\u001b[0m \u001b[39mif\u001b[39;00m \u001b[39mnot\u001b[39;00m coroutines\u001b[39m.\u001b[39miscoroutine(main):\n\u001b[0;32m     37\u001b[0m     \u001b[39mraise\u001b[39;00m \u001b[39mValueError\u001b[39;00m(\u001b[39m\"\u001b[39m\u001b[39ma coroutine was expected, got \u001b[39m\u001b[39m{!r}\u001b[39;00m\u001b[39m\"\u001b[39m\u001b[39m.\u001b[39mformat(main))\n",
      "\u001b[1;31mRuntimeError\u001b[0m: asyncio.run() cannot be called from a running event loop"
     ]
    }
   ],
   "source": [
    "from random import random\n",
    "import asyncio\n",
    " \n",
    "# coroutine to generate work\n",
    "async def producer(queue):\n",
    "    print('Producer: Running')\n",
    "    # generate work\n",
    "    for i in range(10):\n",
    "        # generate a value\n",
    "        value = random()\n",
    "        # block to simulate work\n",
    "        await asyncio.sleep(value)\n",
    "        # add to the queue\n",
    "        await queue.put(value)\n",
    "    # send an all done signal\n",
    "    await queue.put(None)\n",
    "    print('Producer: Done')\n",
    " \n",
    "# coroutine to consume work\n",
    "async def consumer(queue):\n",
    "    print('Consumer: Running')\n",
    "    # consume work\n",
    "    while True:\n",
    "        # get a unit of work\n",
    "        item = await queue.get()\n",
    "        # check for stop signal\n",
    "        if item is None:\n",
    "            break\n",
    "        # report\n",
    "        print(f'>got {item}')\n",
    "    # all done\n",
    "    print('Consumer: Done')\n",
    " \n",
    "# entry point coroutine\n",
    "async def main():\n",
    "    # create the shared queue\n",
    "    queue = asyncio.Queue()\n",
    "    # run the producer and consumers\n",
    "    await asyncio.gather(producer(queue), consumer(queue))\n",
    " \n",
    "# start the asyncio program\n",
    "asyncio.run(main())"
   ]
  },
  {
   "cell_type": "code",
   "execution_count": 1,
   "metadata": {},
   "outputs": [
    {
     "data": {
      "text/plain": [
       "[{'b': 'v', 'c': 'v', 'd': 'v'}, {'b': 'v', 'c': 'v', 'd': 'v'}]"
      ]
     },
     "execution_count": 1,
     "metadata": {},
     "output_type": "execute_result"
    }
   ],
   "source": [
    "d = {\n",
    "    \"a\":{\n",
    "        \"b\":\"v\",\n",
    "        \"c\":\"v\",\n",
    "        \"d\":\"v\",\n",
    "    },\n",
    "    \"b\":{\n",
    "        \"b\":\"v\",\n",
    "        \"c\":\"v\",\n",
    "        \"d\":\"v\",\n",
    "    },\n",
    "}\n",
    "\n",
    "list(d.values())"
   ]
  },
  {
   "cell_type": "code",
   "execution_count": null,
   "metadata": {},
   "outputs": [],
   "source": []
  }
 ],
 "metadata": {
  "kernelspec": {
   "display_name": "venv",
   "language": "python",
   "name": "python3"
  },
  "language_info": {
   "codemirror_mode": {
    "name": "ipython",
    "version": 3
   },
   "file_extension": ".py",
   "mimetype": "text/x-python",
   "name": "python",
   "nbconvert_exporter": "python",
   "pygments_lexer": "ipython3",
   "version": "3.10.1"
  },
  "orig_nbformat": 4
 },
 "nbformat": 4,
 "nbformat_minor": 2
}
